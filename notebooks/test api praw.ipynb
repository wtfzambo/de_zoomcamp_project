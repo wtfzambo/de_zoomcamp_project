{
 "cells": [
  {
   "cell_type": "markdown",
   "id": "5b6618a1",
   "metadata": {},
   "source": [
    "# Imports"
   ]
  },
  {
   "cell_type": "code",
   "execution_count": 2,
   "id": "e61abcbe",
   "metadata": {},
   "outputs": [],
   "source": [
    "import asyncio\n",
    "\n",
    "import csv\n",
    "import copy\n",
    "import datetime\n",
    "import logging\n",
    "import os\n",
    "import re\n",
    "\n",
    "import duckdb\n",
    "import asyncpraw\n",
    "import pandas as pd\n",
    "\n",
    "from dotenv import load_dotenv\n",
    "from pmaw import PushshiftAPI"
   ]
  },
  {
   "cell_type": "code",
   "execution_count": 3,
   "id": "a4c3ce7d",
   "metadata": {},
   "outputs": [
    {
     "data": {
      "text/plain": [
       "True"
      ]
     },
     "execution_count": 3,
     "metadata": {},
     "output_type": "execute_result"
    }
   ],
   "source": [
    "load_dotenv()"
   ]
  },
  {
   "cell_type": "code",
   "execution_count": 4,
   "id": "48259ac8",
   "metadata": {},
   "outputs": [],
   "source": [
    "reddit_client_id = os.getenv('REDDIT_CLIENT_ID')\n",
    "reddit_client_secret = os.getenv('REDDIT_CLIENT_SECRET')"
   ]
  },
  {
   "cell_type": "code",
   "execution_count": 5,
   "id": "9cc109be",
   "metadata": {},
   "outputs": [],
   "source": [
    "user_agent = 'DEZoomcampProject:notebook:v0.1.0 by /u/wtfzambo'\n",
    "\n",
    "reddit = asyncpraw.Reddit(\n",
    "    client_id=reddit_client_id,\n",
    "    client_secret=reddit_client_secret,\n",
    "    user_agent=user_agent\n",
    ")"
   ]
  },
  {
   "cell_type": "code",
   "execution_count": 6,
   "id": "d26b01cb",
   "metadata": {},
   "outputs": [],
   "source": [
    "# Object codes for arg `fullname`\n",
    "\n",
    "comment = 't1'\n",
    "redditor = 't2'\n",
    "submission = 't3'\n",
    "message = 't4'\n",
    "subreddit = 't5'\n",
    "award = 't6'"
   ]
  },
  {
   "cell_type": "markdown",
   "id": "f82de6e8",
   "metadata": {},
   "source": [
    "# Test info API"
   ]
  },
  {
   "cell_type": "code",
   "execution_count": 36,
   "id": "53617ffe",
   "metadata": {},
   "outputs": [],
   "source": [
    "my_sub = reddit.info(fullnames=['t3_12l9mzx'])"
   ]
  },
  {
   "cell_type": "code",
   "execution_count": 41,
   "id": "c9d589fc",
   "metadata": {},
   "outputs": [
    {
     "data": {
      "text/plain": [
       "['__aiter__',\n",
       " '__anext__',\n",
       " '__class__',\n",
       " '__class_getitem__',\n",
       " '__del__',\n",
       " '__delattr__',\n",
       " '__dir__',\n",
       " '__doc__',\n",
       " '__eq__',\n",
       " '__format__',\n",
       " '__ge__',\n",
       " '__getattribute__',\n",
       " '__gt__',\n",
       " '__hash__',\n",
       " '__init__',\n",
       " '__init_subclass__',\n",
       " '__le__',\n",
       " '__lt__',\n",
       " '__name__',\n",
       " '__ne__',\n",
       " '__new__',\n",
       " '__qualname__',\n",
       " '__reduce__',\n",
       " '__reduce_ex__',\n",
       " '__repr__',\n",
       " '__setattr__',\n",
       " '__sizeof__',\n",
       " '__str__',\n",
       " '__subclasshook__',\n",
       " 'aclose',\n",
       " 'ag_await',\n",
       " 'ag_code',\n",
       " 'ag_frame',\n",
       " 'ag_running',\n",
       " 'asend',\n",
       " 'athrow']"
      ]
     },
     "execution_count": 41,
     "metadata": {},
     "output_type": "execute_result"
    }
   ],
   "source": [
    "dir(my_sub)"
   ]
  },
  {
   "cell_type": "code",
   "execution_count": 37,
   "id": "a0cdc9d6",
   "metadata": {},
   "outputs": [],
   "source": [
    "banana = [stuff async for stuff in my_sub]"
   ]
  },
  {
   "cell_type": "code",
   "execution_count": 38,
   "id": "bdffdf43",
   "metadata": {},
   "outputs": [
    {
     "data": {
      "text/plain": [
       "[Submission(id='12l9mzx')]"
      ]
     },
     "execution_count": 38,
     "metadata": {},
     "output_type": "execute_result"
    }
   ],
   "source": [
    "banana"
   ]
  }
 ],
 "metadata": {
  "kernelspec": {
   "display_name": "Python 3 (ipykernel)",
   "language": "python",
   "name": "python3"
  },
  "language_info": {
   "codemirror_mode": {
    "name": "ipython",
    "version": 3
   },
   "file_extension": ".py",
   "mimetype": "text/x-python",
   "name": "python",
   "nbconvert_exporter": "python",
   "pygments_lexer": "ipython3",
   "version": "3.10.4"
  }
 },
 "nbformat": 4,
 "nbformat_minor": 5
}
