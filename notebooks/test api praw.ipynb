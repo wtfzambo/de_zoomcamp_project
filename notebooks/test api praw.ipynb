{
 "cells": [
  {
   "cell_type": "markdown",
   "id": "5b6618a1",
   "metadata": {},
   "source": [
    "# Imports"
   ]
  },
  {
   "cell_type": "code",
   "execution_count": 35,
   "id": "e61abcbe",
   "metadata": {},
   "outputs": [],
   "source": [
    "import asyncio\n",
    "\n",
    "import csv\n",
    "import copy\n",
    "import datetime\n",
    "import logging\n",
    "import os\n",
    "import re\n",
    "\n",
    "import duckdb\n",
    "import asyncpraw\n",
    "from asyncpraw.models import Comment\n",
    "import pandas as pd\n",
    "\n",
    "from dotenv import load_dotenv\n",
    "from pmaw import PushshiftAPI"
   ]
  },
  {
   "cell_type": "code",
   "execution_count": 2,
   "id": "a4c3ce7d",
   "metadata": {},
   "outputs": [
    {
     "data": {
      "text/plain": [
       "True"
      ]
     },
     "execution_count": 2,
     "metadata": {},
     "output_type": "execute_result"
    }
   ],
   "source": [
    "load_dotenv()"
   ]
  },
  {
   "cell_type": "code",
   "execution_count": 3,
   "id": "48259ac8",
   "metadata": {},
   "outputs": [],
   "source": [
    "reddit_client_id = os.getenv('REDDIT_CLIENT_ID')\n",
    "reddit_client_secret = os.getenv('REDDIT_CLIENT_SECRET')"
   ]
  },
  {
   "cell_type": "code",
   "execution_count": 4,
   "id": "9cc109be",
   "metadata": {},
   "outputs": [],
   "source": [
    "user_agent = 'DEZoomcampProject:notebook:v0.1.0 by /u/wtfzambo'\n",
    "\n",
    "reddit = asyncpraw.Reddit(\n",
    "    client_id=reddit_client_id,\n",
    "    client_secret=reddit_client_secret,\n",
    "    user_agent=user_agent\n",
    ")"
   ]
  },
  {
   "cell_type": "code",
   "execution_count": 5,
   "id": "d26b01cb",
   "metadata": {},
   "outputs": [],
   "source": [
    "# Object codes for arg `fullname`\n",
    "\n",
    "comment = 't1'\n",
    "redditor = 't2'\n",
    "submission = 't3'\n",
    "message = 't4'\n",
    "subreddit = 't5'\n",
    "award = 't6'"
   ]
  },
  {
   "cell_type": "markdown",
   "id": "f82de6e8",
   "metadata": {},
   "source": [
    "# Test info API"
   ]
  },
  {
   "cell_type": "code",
   "execution_count": 6,
   "id": "53617ffe",
   "metadata": {},
   "outputs": [],
   "source": [
    "my_sub = reddit.info(fullnames=['t3_12l9mzx'])"
   ]
  },
  {
   "cell_type": "code",
   "execution_count": 9,
   "id": "a0cdc9d6",
   "metadata": {},
   "outputs": [],
   "source": [
    "banana = [stuff async for stuff in my_sub]"
   ]
  },
  {
   "cell_type": "code",
   "execution_count": 20,
   "id": "bdffdf43",
   "metadata": {},
   "outputs": [
    {
     "data": {
      "text/plain": [
       "{'comment_limit': 2048,\n",
       " 'comment_sort': 'confidence',\n",
       " '_reddit': <asyncpraw.reddit.Reddit at 0x7f952e33f350>,\n",
       " 'approved_at_utc': None,\n",
       " 'subreddit': Subreddit(display_name='dataengineering'),\n",
       " 'selftext': '',\n",
       " 'author_fullname': 't2_a49okn69',\n",
       " 'saved': False,\n",
       " 'mod_reason_title': None,\n",
       " 'gilded': 0,\n",
       " 'clicked': False,\n",
       " 'title': 'Who owns data quality?',\n",
       " 'link_flair_richtext': [],\n",
       " 'subreddit_name_prefixed': 'r/dataengineering',\n",
       " 'hidden': False,\n",
       " 'pwls': 6,\n",
       " 'link_flair_css_class': '',\n",
       " 'downs': 0,\n",
       " 'thumbnail_height': 128,\n",
       " 'top_awarded_type': None,\n",
       " 'hide_score': False,\n",
       " 'name': 't3_12l9mzx',\n",
       " 'quarantine': False,\n",
       " 'link_flair_text_color': 'light',\n",
       " 'upvote_ratio': 0.98,\n",
       " 'author_flair_background_color': None,\n",
       " 'ups': 686,\n",
       " 'total_awards_received': 0,\n",
       " 'media_embed': {},\n",
       " 'thumbnail_width': 140,\n",
       " 'author_flair_template_id': None,\n",
       " 'is_original_content': False,\n",
       " 'user_reports': [],\n",
       " 'secure_media': None,\n",
       " 'is_reddit_media_domain': True,\n",
       " 'is_meta': False,\n",
       " 'category': None,\n",
       " 'secure_media_embed': {},\n",
       " 'link_flair_text': 'Meme',\n",
       " 'can_mod_post': False,\n",
       " 'score': 686,\n",
       " 'approved_by': None,\n",
       " 'is_created_from_ads_ui': False,\n",
       " 'author_premium': False,\n",
       " 'thumbnail': 'https://b.thumbs.redditmedia.com/pEGgrT6AA0Ee7mh3QIRZ3wvGng2GrkEtE8Vu2pZZaYs.jpg',\n",
       " 'edited': False,\n",
       " 'author_flair_css_class': None,\n",
       " 'author_flair_richtext': [],\n",
       " 'gildings': {},\n",
       " 'post_hint': 'image',\n",
       " 'content_categories': None,\n",
       " 'is_self': False,\n",
       " 'subreddit_type': 'public',\n",
       " 'created': 1681425657.0,\n",
       " 'link_flair_type': 'text',\n",
       " 'wls': 6,\n",
       " 'removed_by_category': None,\n",
       " 'banned_by': None,\n",
       " 'author_flair_type': 'text',\n",
       " 'domain': 'i.redd.it',\n",
       " 'allow_live_comments': False,\n",
       " 'selftext_html': None,\n",
       " 'likes': None,\n",
       " 'suggested_sort': None,\n",
       " 'banned_at_utc': None,\n",
       " 'url_overridden_by_dest': 'https://i.redd.it/8ma1yb67cqta1.jpg',\n",
       " 'view_count': None,\n",
       " 'archived': False,\n",
       " 'no_follow': False,\n",
       " 'is_crosspostable': False,\n",
       " 'pinned': False,\n",
       " 'over_18': False,\n",
       " 'preview': {'images': [{'source': {'url': 'https://preview.redd.it/8ma1yb67cqta1.jpg?auto=webp&v=enabled&s=c76f3ae14fda40cd714446ff0014957170862a87',\n",
       "     'width': 544,\n",
       "     'height': 500},\n",
       "    'resolutions': [{'url': 'https://preview.redd.it/8ma1yb67cqta1.jpg?width=108&crop=smart&auto=webp&v=enabled&s=0f5357d6ad8fd22807c299e69c1cea0f02eef2a7',\n",
       "      'width': 108,\n",
       "      'height': 99},\n",
       "     {'url': 'https://preview.redd.it/8ma1yb67cqta1.jpg?width=216&crop=smart&auto=webp&v=enabled&s=733fddc2fdf613c203bb9c2be183514abad5d0ee',\n",
       "      'width': 216,\n",
       "      'height': 198},\n",
       "     {'url': 'https://preview.redd.it/8ma1yb67cqta1.jpg?width=320&crop=smart&auto=webp&v=enabled&s=b959130ca293342df5aaf140d27d94fe653fe379',\n",
       "      'width': 320,\n",
       "      'height': 294}],\n",
       "    'variants': {},\n",
       "    'id': '_zipJWJt_VoFsn3ElGALbQLgo-DKOM9i4P2OFhKqSN8'}],\n",
       "  'enabled': True},\n",
       " 'all_awardings': [],\n",
       " 'awarders': [],\n",
       " 'media_only': False,\n",
       " 'link_flair_template_id': 'dc9742bc-a7de-11eb-a2e7-0e0348c8a4c1',\n",
       " 'can_gild': False,\n",
       " 'spoiler': False,\n",
       " 'locked': False,\n",
       " 'author_flair_text': None,\n",
       " 'treatment_tags': [],\n",
       " 'visited': False,\n",
       " 'removed_by': None,\n",
       " 'mod_note': None,\n",
       " 'distinguished': None,\n",
       " 'subreddit_id': 't5_36en4',\n",
       " 'author_is_blocked': False,\n",
       " 'mod_reason_by': None,\n",
       " 'num_reports': None,\n",
       " 'removal_reason': None,\n",
       " 'link_flair_background_color': '#ff66ac',\n",
       " 'id': '12l9mzx',\n",
       " 'is_robot_indexable': True,\n",
       " 'report_reasons': None,\n",
       " 'author': Redditor(name='Top-Substance2185'),\n",
       " 'discussion_type': None,\n",
       " 'num_comments': 92,\n",
       " 'send_replies': True,\n",
       " 'whitelist_status': 'all_ads',\n",
       " 'contest_mode': False,\n",
       " 'mod_reports': [],\n",
       " 'author_patreon_flair': False,\n",
       " 'author_flair_text_color': None,\n",
       " 'permalink': '/r/dataengineering/comments/12l9mzx/who_owns_data_quality/',\n",
       " 'parent_whitelist_status': 'all_ads',\n",
       " 'stickied': False,\n",
       " 'url': 'https://i.redd.it/8ma1yb67cqta1.jpg',\n",
       " 'subreddit_subscribers': 100855,\n",
       " 'created_utc': 1681425657.0,\n",
       " 'num_crossposts': 0,\n",
       " 'media': None,\n",
       " 'is_video': False,\n",
       " '_fetched': False,\n",
       " '_comments_by_id': {},\n",
       " 'comments': <asyncpraw.models.comment_forest.CommentForest at 0x7f952ef03410>}"
      ]
     },
     "execution_count": 20,
     "metadata": {},
     "output_type": "execute_result"
    }
   ],
   "source": [
    "vars(banana[0])"
   ]
  },
  {
   "cell_type": "markdown",
   "id": "1481b638",
   "metadata": {},
   "source": [
    "# Test async comment list"
   ]
  },
  {
   "cell_type": "code",
   "execution_count": 26,
   "id": "2f7c37bd",
   "metadata": {},
   "outputs": [],
   "source": [
    "url = \"https://www.reddit.com/r/dataengineering/comments/12sxihg/visualizing_parquet_in_s3_bucket_for_data_analysis/\"\n",
    "my_submission = await reddit.submission(url=url)\n",
    "\n",
    "my_submission_checkpoint = copy.deepcopy(my_submission)"
   ]
  },
  {
   "cell_type": "code",
   "execution_count": 27,
   "id": "86616d61",
   "metadata": {},
   "outputs": [],
   "source": [
    "my_submission_play = copy.deepcopy(my_submission_checkpoint)"
   ]
  },
  {
   "cell_type": "code",
   "execution_count": 33,
   "id": "1c17dd39",
   "metadata": {},
   "outputs": [],
   "source": [
    "comments = my_submission_play.comments.list()"
   ]
  }
 ],
 "metadata": {
  "kernelspec": {
   "display_name": "Python 3 (ipykernel)",
   "language": "python",
   "name": "python3"
  },
  "language_info": {
   "codemirror_mode": {
    "name": "ipython",
    "version": 3
   },
   "file_extension": ".py",
   "mimetype": "text/x-python",
   "name": "python",
   "nbconvert_exporter": "python",
   "pygments_lexer": "ipython3",
   "version": "3.11.1"
  }
 },
 "nbformat": 4,
 "nbformat_minor": 5
}
