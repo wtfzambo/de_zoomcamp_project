{
 "cells": [
  {
   "cell_type": "markdown",
   "id": "96071ebf",
   "metadata": {},
   "source": [
    "# Imports and setup"
   ]
  },
  {
   "cell_type": "code",
   "execution_count": 1,
   "id": "1ce3930e",
   "metadata": {},
   "outputs": [],
   "source": [
    "import csv\n",
    "import copy\n",
    "import datetime\n",
    "import logging\n",
    "import os\n",
    "import re\n",
    "\n",
    "import duckdb\n",
    "import praw\n",
    "import pandas as pd\n",
    "\n",
    "from dotenv import load_dotenv\n",
    "from pmaw import PushshiftAPI"
   ]
  },
  {
   "cell_type": "code",
   "execution_count": 2,
   "id": "9d8a4ce2",
   "metadata": {},
   "outputs": [
    {
     "data": {
      "text/plain": [
       "True"
      ]
     },
     "execution_count": 2,
     "metadata": {},
     "output_type": "execute_result"
    }
   ],
   "source": [
    "load_dotenv()"
   ]
  },
  {
   "cell_type": "code",
   "execution_count": 3,
   "id": "4a478cd6",
   "metadata": {},
   "outputs": [],
   "source": [
    "reddit_client_id = os.getenv('REDDIT_CLIENT_ID')\n",
    "reddit_client_secret = os.getenv('REDDIT_CLIENT_SECRET')"
   ]
  },
  {
   "cell_type": "code",
   "execution_count": 4,
   "id": "febe05c8",
   "metadata": {},
   "outputs": [],
   "source": [
    "user_agent = 'DEZoomcampProject:notebook:v0.1.0 by /u/wtfzambo'\n",
    "\n",
    "reddit = praw.Reddit(\n",
    "    client_id=reddit_client_id,\n",
    "    client_secret=reddit_client_secret,\n",
    "    user_agent=user_agent\n",
    ")"
   ]
  },
  {
   "cell_type": "code",
   "execution_count": 5,
   "id": "749da7dc",
   "metadata": {},
   "outputs": [
    {
     "name": "stdout",
     "output_type": "stream",
     "text": [
      "test\n",
      "Testing title\n",
      "test repost\n",
      "Secure Enterprise Browsing: Chrome adds enhanced DLP and extension protections\n",
      "Secure Enterprise Browsing: Chrome adds enhanced DLP and extension protections\n",
      "test\n",
      "test\n",
      "test\n",
      "test\n",
      "testdklsd\n"
     ]
    }
   ],
   "source": [
    "# Test if API client works\n",
    "for submission in reddit.subreddit(\"test\").hot(limit=10):\n",
    "    print(submission.title)"
   ]
  },
  {
   "cell_type": "code",
   "execution_count": 6,
   "id": "f2d85f72",
   "metadata": {},
   "outputs": [],
   "source": [
    "# Object codes for arg `fullname`\n",
    "\n",
    "comment = 't1'\n",
    "redditor = 't2'\n",
    "submission = 't3'\n",
    "message = 't4'\n",
    "subreddit = 't5'\n",
    "award = 't6'"
   ]
  },
  {
   "cell_type": "markdown",
   "id": "96610997",
   "metadata": {},
   "source": [
    "# Using pmaw"
   ]
  },
  {
   "cell_type": "code",
   "execution_count": 7,
   "id": "e03a1c55",
   "metadata": {},
   "outputs": [],
   "source": [
    "# cpu_count = os.cpu_count()\n",
    "# threads = cpu_count * 5"
   ]
  },
  {
   "cell_type": "code",
   "execution_count": 8,
   "id": "58fb8f7d",
   "metadata": {},
   "outputs": [],
   "source": [
    "api = PushshiftAPI()"
   ]
  },
  {
   "cell_type": "code",
   "execution_count": 9,
   "id": "e9568045",
   "metadata": {},
   "outputs": [],
   "source": [
    "api_praw = PushshiftAPI(praw=reddit)"
   ]
  },
  {
   "cell_type": "markdown",
   "id": "fde04c33",
   "metadata": {},
   "source": [
    "Trying to get my own post"
   ]
  },
  {
   "cell_type": "code",
   "execution_count": 10,
   "id": "92d454dd",
   "metadata": {},
   "outputs": [
    {
     "name": "stderr",
     "output_type": "stream",
     "text": [
      "Not all PushShift shards are active. Query results may be incomplete.\n",
      "Not all PushShift shards are active. Query results may be incomplete.\n"
     ]
    }
   ],
   "source": [
    "my_post_id = '11xcy2g'\n",
    "subreddit = 'dataengineering'\n",
    "my_post = api_praw.search_submissions(subreddit=subreddit, ids=[my_post_id])"
   ]
  },
  {
   "cell_type": "code",
   "execution_count": 10,
   "id": "13a503f2",
   "metadata": {},
   "outputs": [],
   "source": [
    "my_post = list(my_post)[0]"
   ]
  },
  {
   "cell_type": "code",
   "execution_count": 11,
   "id": "04d18f26",
   "metadata": {
    "scrolled": true
   },
   "outputs": [
    {
     "data": {
      "text/plain": [
       "\"I don't understand DuckDB\""
      ]
     },
     "execution_count": 11,
     "metadata": {},
     "output_type": "execute_result"
    }
   ],
   "source": [
    "my_post['title']"
   ]
  },
  {
   "cell_type": "markdown",
   "id": "bd2dc0d1",
   "metadata": {},
   "source": [
    "## Get all posts from a specific  day"
   ]
  },
  {
   "cell_type": "code",
   "execution_count": 12,
   "id": "5ae61d37",
   "metadata": {},
   "outputs": [],
   "source": [
    "today = datetime.date.today()\n",
    "today = datetime.datetime.combine(today, datetime.time(0, 0))\n",
    "\n",
    "one_year_ago = today - datetime.timedelta(days=365)"
   ]
  },
  {
   "cell_type": "code",
   "execution_count": 13,
   "id": "02ab1b9f",
   "metadata": {},
   "outputs": [],
   "source": [
    "today_ts = int(today.timestamp())\n",
    "one_year_ago_ts = int(one_year_ago.timestamp())"
   ]
  },
  {
   "cell_type": "code",
   "execution_count": 14,
   "id": "19bafc90",
   "metadata": {},
   "outputs": [],
   "source": [
    "one_year_posts = api_praw.search_submissions(\n",
    "    subreddit=subreddit,\n",
    "    after=one_year_ago_ts,\n",
    "    until=today_ts\n",
    ")"
   ]
  },
  {
   "cell_type": "code",
   "execution_count": 15,
   "id": "d2f36dd1",
   "metadata": {},
   "outputs": [],
   "source": [
    "one_year_posts_list = list(one_year_posts)"
   ]
  },
  {
   "cell_type": "code",
   "execution_count": 16,
   "id": "91757ab2",
   "metadata": {},
   "outputs": [
    {
     "data": {
      "text/plain": [
       "1430"
      ]
     },
     "execution_count": 16,
     "metadata": {},
     "output_type": "execute_result"
    }
   ],
   "source": [
    "len(one_year_posts_list)"
   ]
  },
  {
   "cell_type": "code",
   "execution_count": 25,
   "id": "7a4515b1",
   "metadata": {},
   "outputs": [],
   "source": [
    "post_ids = [post['id'] for post in one_year_posts_list]"
   ]
  },
  {
   "cell_type": "code",
   "execution_count": 28,
   "id": "505c6b6e",
   "metadata": {},
   "outputs": [],
   "source": [
    "with open('post_ids.csv', 'w', newline='') as f:\n",
    "    csv_writer = csv.writer(f)\n",
    "    for row in post_ids:\n",
    "        csv_writer.writerow([row])"
   ]
  },
  {
   "cell_type": "markdown",
   "id": "ed9e8265",
   "metadata": {},
   "source": [
    "Extract author's info from a specific post"
   ]
  },
  {
   "cell_type": "code",
   "execution_count": 19,
   "id": "09325567",
   "metadata": {},
   "outputs": [],
   "source": [
    "def isPrimitive(obj):\n",
    "    return not hasattr(obj, '__dict__')"
   ]
  },
  {
   "cell_type": "code",
   "execution_count": 20,
   "id": "3ac0ddb5",
   "metadata": {},
   "outputs": [],
   "source": [
    "def no_empty_obj(v):\n",
    "    if not isinstance(v, (list, dict)):\n",
    "        return v\n",
    "    return None if len(v) == 0 else v"
   ]
  },
  {
   "cell_type": "code",
   "execution_count": 21,
   "id": "f0d38c5a",
   "metadata": {},
   "outputs": [],
   "source": [
    "def clean_up_reddit_object(d: dict):\n",
    "    return {k: no_empty_obj(v) for k, v in d.items() if isPrimitive(v)}"
   ]
  },
  {
   "cell_type": "code",
   "execution_count": 30,
   "id": "c47aaa9d",
   "metadata": {
    "scrolled": true
   },
   "outputs": [
    {
     "data": {
      "text/html": [
       "<div>\n",
       "<style scoped>\n",
       "    .dataframe tbody tr th:only-of-type {\n",
       "        vertical-align: middle;\n",
       "    }\n",
       "\n",
       "    .dataframe tbody tr th {\n",
       "        vertical-align: top;\n",
       "    }\n",
       "\n",
       "    .dataframe thead th {\n",
       "        text-align: right;\n",
       "    }\n",
       "</style>\n",
       "<table border=\"1\" class=\"dataframe\">\n",
       "  <thead>\n",
       "    <tr style=\"text-align: right;\">\n",
       "      <th></th>\n",
       "      <th>comment_limit</th>\n",
       "      <th>comment_sort</th>\n",
       "      <th>approved_at_utc</th>\n",
       "      <th>selftext</th>\n",
       "      <th>author_fullname</th>\n",
       "      <th>saved</th>\n",
       "      <th>mod_reason_title</th>\n",
       "      <th>gilded</th>\n",
       "      <th>clicked</th>\n",
       "      <th>title</th>\n",
       "      <th>...</th>\n",
       "      <th>parent_whitelist_status</th>\n",
       "      <th>stickied</th>\n",
       "      <th>url</th>\n",
       "      <th>subreddit_subscribers</th>\n",
       "      <th>created_utc</th>\n",
       "      <th>num_crossposts</th>\n",
       "      <th>media</th>\n",
       "      <th>is_video</th>\n",
       "      <th>_fetched</th>\n",
       "      <th>_comments_by_id</th>\n",
       "    </tr>\n",
       "  </thead>\n",
       "  <tbody>\n",
       "    <tr>\n",
       "      <th>0</th>\n",
       "      <td>2048</td>\n",
       "      <td>confidence</td>\n",
       "      <td>None</td>\n",
       "      <td>We're currently using MS Access as storage fil...</td>\n",
       "      <td>t2_9sk2qr0q</td>\n",
       "      <td>False</td>\n",
       "      <td>None</td>\n",
       "      <td>0</td>\n",
       "      <td>False</td>\n",
       "      <td>Serverless DB to replace MS Access</td>\n",
       "      <td>...</td>\n",
       "      <td>all_ads</td>\n",
       "      <td>False</td>\n",
       "      <td>https://www.reddit.com/r/dataengineering/comme...</td>\n",
       "      <td>97665</td>\n",
       "      <td>1.681071e+09</td>\n",
       "      <td>0</td>\n",
       "      <td>None</td>\n",
       "      <td>False</td>\n",
       "      <td>False</td>\n",
       "      <td>{}</td>\n",
       "    </tr>\n",
       "  </tbody>\n",
       "</table>\n",
       "<p>1 rows × 109 columns</p>\n",
       "</div>"
      ],
      "text/plain": [
       "   comment_limit comment_sort approved_at_utc   \n",
       "0           2048   confidence            None  \\\n",
       "\n",
       "                                            selftext author_fullname  saved   \n",
       "0  We're currently using MS Access as storage fil...     t2_9sk2qr0q  False  \\\n",
       "\n",
       "  mod_reason_title  gilded  clicked                               title  ...   \n",
       "0             None       0    False  Serverless DB to replace MS Access  ...  \\\n",
       "\n",
       "  parent_whitelist_status stickied   \n",
       "0                 all_ads    False  \\\n",
       "\n",
       "                                                 url  subreddit_subscribers   \n",
       "0  https://www.reddit.com/r/dataengineering/comme...                  97665  \\\n",
       "\n",
       "    created_utc  num_crossposts media is_video  _fetched _comments_by_id  \n",
       "0  1.681071e+09               0  None    False     False              {}  \n",
       "\n",
       "[1 rows x 109 columns]"
      ]
     },
     "execution_count": 30,
     "metadata": {},
     "output_type": "execute_result"
    }
   ],
   "source": [
    "pd.DataFrame.from_dict([{k: v for k, v in one_year_posts_list[0].items() if isPrimitive(v)}])"
   ]
  },
  {
   "cell_type": "markdown",
   "id": "4b6ddc91",
   "metadata": {},
   "source": [
    "# Test Praw `info` method"
   ]
  },
  {
   "cell_type": "code",
   "execution_count": 44,
   "id": "f2db09fb",
   "metadata": {},
   "outputs": [],
   "source": [
    "handler = logging.StreamHandler()\n",
    "handler.setLevel(logging.DEBUG)\n",
    "\n",
    "for logger_name in ('praw', 'prawcore'):\n",
    "    logger = logging.getLogger(logger_name)\n",
    "    logger.setLevel(logging.DEBUG)\n",
    "    logger.addHandler(handler)"
   ]
  },
  {
   "cell_type": "code",
   "execution_count": 38,
   "id": "ab141937",
   "metadata": {},
   "outputs": [],
   "source": [
    "one_year_post_ids = [f'{submission}_{post[\"id\"]}' for post in one_year_posts_list]"
   ]
  },
  {
   "cell_type": "code",
   "execution_count": 47,
   "id": "dff4fa95",
   "metadata": {},
   "outputs": [],
   "source": [
    "one_year_submissions = reddit.info(fullnames=one_year_post_ids)"
   ]
  },
  {
   "cell_type": "code",
   "execution_count": 49,
   "id": "99b83ffa",
   "metadata": {},
   "outputs": [
    {
     "name": "stderr",
     "output_type": "stream",
     "text": [
      "Fetching: GET https://oauth.reddit.com/api/info/\n",
      "Data: None\n",
      "Params: {'id': 't3_12gu5rt,t3_12gsngo,t3_12gsifx,t3_12gqukv,t3_12gq5jz,t3_12go3xm,t3_12gnnl6,t3_12gmctv,t3_12gkvly,t3_12gjkx1,t3_12gj4wk,t3_12gilc3,t3_12ggg9o,t3_12gdiok,t3_12gdfyl,t3_12gd0ca,t3_12gbz1n,t3_12gbd91,t3_12gb2i9,t3_12ga0pb,t3_12g942e,t3_12g8i52,t3_12g8570,t3_12g851t,t3_12g69fw,t3_12g15y8,t3_12g0x63,t3_12g0546,t3_12fw7gm,t3_12fw1g0,t3_12fswm7,t3_12fp9u5,t3_12fo8lc,t3_12fnem4,t3_12fn03t,t3_12fm8md,t3_12fj2we,t3_12fdqf0,t3_12fd84i,t3_12fcrdg,t3_12fbp1b,t3_12f6old,t3_12f47e2,t3_12f2hty,t3_12ez3ca,t3_12evpjd,t3_12etz55,t3_12ergr0,t3_12erf91,t3_12erdiz,t3_12er9ut,t3_12epuyd,t3_12epsbd,t3_12ep3pl,t3_12eozr9,t3_12eoc5a,t3_12eo3z0,t3_12emkqw,t3_12emkq6,t3_12el758,t3_12ekb6i,t3_12ejxmr,t3_12ejuno,t3_12eiheo,t3_12egjxl,t3_12egefo,t3_12eg4ty,t3_12ee6bw,t3_12ecrzm,t3_12ecp7g,t3_12eaf32,t3_12e9jat,t3_12e8vxo,t3_12e6iqp,t3_12e65p3,t3_12e5kv9,t3_12e589j,t3_12e43ql,t3_12e23yj,t3_12e20s1,t3_12e0lti,t3_12dwoe3,t3_12dtv8u,t3_12dteg3,t3_12dpot8,t3_12dot4u,t3_12dopeu,t3_12dnjf7,t3_12dnhpn,t3_12dn7ej,t3_12dl8qj,t3_12dkst1,t3_12dkcdv,t3_12dk94v,t3_12djy0h,t3_12djkq1,t3_12djha7,t3_12dj6hb,t3_12dii09,t3_12dh2ht', 'raw_json': 1}\n",
      "Response: 200 (56047 bytes)\n",
      "Fetching: GET https://oauth.reddit.com/api/info/\n",
      "Data: None\n",
      "Params: {'id': 't3_vhomws,t3_vhn4mr,t3_vhl081,t3_vhksuy,t3_vhiuuq,t3_vhhria,t3_vhgua2,t3_vhgoe5,t3_vhg6we,t3_vhfrxq,t3_vhfo4a,t3_vhfkwm,t3_vhfglj,t3_vhf6nj,t3_vhf58h,t3_vhexjw,t3_vhefuy,t3_vhebtw,t3_vhe6nn,t3_vhd55w,t3_vhcn7n,t3_vhcjym,t3_vhcgwe,t3_vhcfmo,t3_vhcc6b,t3_vhbsoi,t3_vhbs02,t3_vhbg6h,t3_vhbc3b,t3_vhb5p7,t3_vhamcu,t3_vha3xe,t3_vh9zb7,t3_vh9vtb,t3_vh9rz7,t3_vh9ox8,t3_vh80st,t3_vh7zfw,t3_vh7yns,t3_vh7tt3,t3_vh7kr6,t3_vh6cob,t3_vh3hdh,t3_vh2pn4,t3_vh2cni,t3_vh20md,t3_vh01pt,t3_vgza02,t3_vgwcgg,t3_vgw0so,t3_vgv3pr,t3_vguvzp,t3_vgudy7,t3_vgu62q,t3_vgtjfs,t3_vgsohh,t3_vgrv4m,t3_vgqw4v,t3_vgq85h,t3_vgo3tl,t3_vgn95l,t3_vgn4w0,t3_vgmdh5,t3_vglzsl,t3_vglhdm,t3_vgl8dp,t3_vgkey8,t3_vgjk0v,t3_vgj0ep,t3_vgi6ac,t3_vghran,t3_vghkex,t3_vgg317,t3_vgfv1a,t3_vgdsso,t3_vgbx0d,t3_vg63hb,t3_vg5i02,t3_vg4le1,t3_vg3384,t3_vg12w8,t3_vfz0t7,t3_vfxiv0,t3_vfvv21,t3_vftjwk,t3_vfrfrc,t3_vfm1gp,t3_vfkv84,t3_vfcxi0,t3_vfbtsf,t3_vf9mbf,t3_vf8cii,t3_vf7nem,t3_vf5fxj,t3_vf3her,t3_vf2ss2,t3_vf2r4q,t3_vf0p8a,t3_vezl4m,t3_vey3pp', 'raw_json': 1}\n",
      "Sleeping: 9.98 seconds prior to call\n",
      "Response: 200 (30782 bytes)\n",
      "Fetching: GET https://oauth.reddit.com/api/info/\n",
      "Data: None\n",
      "Params: {'id': 't3_zrdq62,t3_zrcjec,t3_zrcda4,t3_zraz97,t3_zr8dc7,t3_zr86gx,t3_zr5vml,t3_zr5b9b,t3_zr3u25,t3_zr2vyz,t3_zr2klf,t3_zr1x8p,t3_zr0url,t3_zr0663,t3_zqzxut,t3_zqzh8r,t3_zqy918,t3_zqva84,t3_zquy11,t3_zqu7ix,t3_zqqsqx,t3_zqq3au,t3_zqpy13,t3_zqmq0w,t3_zqmnxe,t3_zqkowp,t3_zqkjk3,t3_zqkix0,t3_zqjyuu,t3_zqjvmy,t3_zqia5w,t3_zqhdcw,t3_zqeco3,t3_zqd8l3,t3_zqd0lp,t3_zqcc0j,t3_zqbehq,t3_zq9hyk,t3_zq5wak,t3_zq5jlb,t3_zq4eg6,t3_zq13us,t3_zq0q0b,t3_zq07h1,t3_zpzkvv,t3_zpyyg3,t3_zpynn1,t3_zpx6oh,t3_zpx5o0,t3_zpwh5o,t3_zpvxqw,t3_zpvupr,t3_zpt1ri,t3_zpsxzd,t3_zpscb8,t3_zprh9o,t3_zppmqt,t3_zpp22z,t3_zpozxv,t3_zpoa21,t3_zpntpc,t3_zpnn8i,t3_zpnhb7,t3_zpmy3k,t3_zpmb7b,t3_zpm2cg,t3_zpl7yk,t3_zpl4dg,t3_zpkkw7,t3_zpjoid,t3_zphsfl,t3_zpfnlw,t3_zpfidd,t3_zpf74t,t3_zpcj72,t3_zpbcx9,t3_zpa8tk,t3_zp6ai6,t3_zp5yqf,t3_zp4jnn,t3_zp3vug,t3_zp3tp4,t3_zoz121,t3_zoyze6,t3_zoytmj,t3_zoy3ry,t3_zoxlih,t3_zovyfe,t3_zoumpw,t3_zou6p4,t3_zot236,t3_zos8hp,t3_zorwxh,t3_zon077,t3_zoldtb,t3_zokvzv,t3_zoj5mg,t3_zoi81y,t3_zoi1an,t3_zohw0f', 'raw_json': 1}\n",
      "Sleeping: 9.98 seconds prior to call\n",
      "Response: 200 (54526 bytes)\n",
      "Fetching: GET https://oauth.reddit.com/api/info/\n",
      "Data: None\n",
      "Params: {'id': 't3_11hrwp9,t3_11hrslk,t3_11hpim1,t3_11hosx6,t3_11hngbs,t3_11hktx8,t3_11hkrum,t3_11hjvp9,t3_11hjk4a,t3_11hiauo,t3_11hhajg,t3_11hg5wi,t3_11hg4mk,t3_11hfwfb,t3_11hfijs,t3_11hf0yv,t3_11he6z1,t3_11hdy54,t3_11hc2iu,t3_11hbyzq,t3_11hbwsm,t3_11hbo2g,t3_11hbiqv,t3_11hay9z,t3_11haspk,t3_11h9wch,t3_11h9iwd,t3_11h9g81,t3_11h87vp,t3_11h7uhj,t3_11h7f4c,t3_11h6ncn,t3_11h31pe,t3_11h2aqp,t3_11h29lz,t3_11h16th,t3_11gxjjn,t3_11gx87d,t3_11gwrrw,t3_11gvq02,t3_11gsmqd,t3_11grme8,t3_11gr26p,t3_11gqcqd,t3_11gpj9z,t3_11gldb2,t3_11gksbw,t3_11gkmwr,t3_11gkiep,t3_11gj10y,t3_11ge9rh,t3_11gdmeh,t3_11gdkh5,t3_11gc8io,t3_11gbf5w,t3_11ga6hd,t3_11g9tkt,t3_11g9pn8,t3_11g9jzs,t3_11g9ek8,t3_11g961t,t3_11g94rc,t3_11g946u,t3_11g8ghm,t3_11g7kxu,t3_11g6zaf,t3_11g6rel,t3_11g6bt2,t3_11g66my,t3_11g62b8,t3_11g5yy1,t3_11g5yxd,t3_11g5pyb,t3_11g5dx0,t3_11g3yo8,t3_11g3w7v,t3_11g2nbo,t3_11g2lio,t3_11g217e,t3_11g1vzf,t3_11g1dvv,t3_11g0ud8,t3_11fyzaq,t3_11fyyi5,t3_11fyslh,t3_11fxhaa,t3_11fukgi,t3_11fty7b,t3_11ft68u,t3_11fs2n0,t3_11fr7wl,t3_11fmqcu,t3_11fm7re,t3_11flx0o,t3_11fkmvz,t3_11fjypl,t3_11fi734,t3_11fhmqu,t3_11fg6vq,t3_11ffhtx', 'raw_json': 1}\n",
      "Sleeping: 6.48 seconds prior to call\n",
      "Response: 200 (55537 bytes)\n",
      "Fetching: GET https://oauth.reddit.com/api/info/\n",
      "Data: None\n",
      "Params: {'id': 't3_yvdydl,t3_yvdmdb,t3_yvcz5r,t3_yvair9,t3_yvafx5,t3_yv9kug,t3_yv9270,t3_yv7j8l,t3_yv7imp,t3_yv7hhv,t3_yv6lon,t3_yv5yp3,t3_yv5s19,t3_yv4z3z,t3_yv360n,t3_yv2ddc,t3_yv1y0d,t3_yv1uee,t3_yv1dof,t3_yv0u1t,t3_yv0nja,t3_yv0hcm,t3_yuxwj8,t3_yuxqor,t3_yux1v4,t3_yuw07u,t3_yuudwe,t3_yutut4,t3_yutl48,t3_yuths5,t3_yut4jj,t3_yuscy6,t3_yujpxs,t3_yujlfl,t3_yujevd,t3_yuil1m,t3_yui8kn,t3_yufzlk,t3_yufz48,t3_yufyxk,t3_yufp19,t3_yudkpe,t3_yub8zq,t3_yuafy9,t3_yu9t29,t3_yu9n1h,t3_yu86mc,t3_yu7dj7,t3_yu3m38,t3_yu2ry3,t3_yu1y7w,t3_yu0syq,t3_ytyp17,t3_ytyiw3,t3_ytuy1e,t3_yts95d,t3_ytqhxp,t3_ytqbsz,t3_ytgdw9,t3_ytg56j,t3_yte0c6,t3_ytcz9n,t3_ytcr0a,t3_ytcl1t,t3_ytchli,t3_yt93ia,t3_yt8wpg,t3_yt7yan,t3_yt75iw,t3_yt6xft,t3_yt56bf,t3_yt4n5z,t3_yt4gzd,t3_yt14ct,t3_ysu4da,t3_yspcka,t3_ysnavn,t3_ysmqxu,t3_ysmdk9,t3_ysm1tt,t3_ysim7f,t3_ysij46,t3_yshbtk,t3_ysgftu,t3_yseqms,t3_ysebab,t3_ysdwo0,t3_ysdmch,t3_yschbk,t3_ysa4yt,t3_ys9w43,t3_ys66qn,t3_ys60ca,t3_ys5llm,t3_ys558u,t3_ys4sev,t3_ys0dbq,t3_yrzk6m,t3_yrzc0b,t3_yrxwf9', 'raw_json': 1}\n",
      "Sleeping: 3.48 seconds prior to call\n",
      "Response: 200 (47823 bytes)\n",
      "Fetching: GET https://oauth.reddit.com/api/info/\n",
      "Data: None\n",
      "Params: {'id': 't3_xzhigz,t3_xzgo6m,t3_xzfr7o,t3_xzfmsb,t3_xzdc7l,t3_xzbrn0,t3_xzabow,t3_xz9qay,t3_xz8jxt,t3_xz7506,t3_xz6xjc,t3_xz4n5u,t3_xz1srr,t3_xz1b9g,t3_xz0j18,t3_xyyrya,t3_xyxpku,t3_xyxfco,t3_xyvtsf,t3_xyukt0,t3_xyuiwu,t3_xytrbx,t3_xytfc3,t3_xyt710,t3_xys7f1,t3_xyrnvc,t3_xyr45x,t3_xyqi3i,t3_xyq056,t3_xym3sw,t3_xylc0l,t3_xyk6o2,t3_xyjrht,t3_xyflvu,t3_xyezx6,t3_xyeqfv,t3_xyegs7,t3_xydq4f,t3_xybukd,t3_xy93pg,t3_xy754s,t3_xy45ac,t3_xy3irw,t3_xy39mi,t3_xy2gnb,t3_xy235h,t3_xy1o11,t3_xy1msp,t3_xy0ves,t3_xy0miq,t3_xxzlh3,t3_xxzil1,t3_xxyyac,t3_xxynmy,t3_xxyfat,t3_xxy0yb,t3_xxx1gr,t3_xxwydd,t3_xxwv6n,t3_xxw4ps,t3_xxv4sm,t3_xxv2nc,t3_xxuodv,t3_xxt635,t3_xxsr9k,t3_xxpqsx,t3_xxowmf,t3_xxojq2,t3_xxniev,t3_xxms6j,t3_xxklre,t3_xxgyc2,t3_xxgd9m,t3_xxfmat,t3_xxf4j1,t3_xxf2n4,t3_xxdvvn,t3_xxcsoj,t3_xxb3yn,t3_xxar0v,t3_xxak3u,t3_xxaa8n,t3_xx9i2o,t3_xx95jq,t3_xx8xv9,t3_xx8k3o,t3_xx7eyp,t3_xx6tg7,t3_xx69mt,t3_xx5hk8,t3_xx5gv0,t3_xx4zsf,t3_xx4tee,t3_xx4p5o,t3_xx2uz8,t3_xx23m2,t3_xx02ty,t3_xx01uy,t3_xwulv1,t3_xwtl64', 'raw_json': 1}\n",
      "Sleeping: 1.48 seconds prior to call\n",
      "Response: 200 (50659 bytes)\n",
      "Fetching: GET https://oauth.reddit.com/api/info/\n",
      "Data: None\n",
      "Params: {'id': 't3_10m33yx,t3_10lzqbg,t3_10lz5m7,t3_10lyq08,t3_10lxvjc,t3_10lxuyk,t3_10lxrim,t3_10lwt8d,t3_10lwral,t3_10lwoty,t3_10lwl4y,t3_10lv9ga,t3_10lv904,t3_10lv17x,t3_10luhif,t3_10lu2hi,t3_10ltwdp,t3_10lthgc,t3_10lt1ek,t3_10lspqm,t3_10lsolv,t3_10lsa27,t3_10ls6b9,t3_10lrt1k,t3_10lpb7u,t3_10lnyez,t3_10lnxn4,t3_10lnnp7,t3_10lng8w,t3_10lnftv,t3_10limxb,t3_10li4nx,t3_10li21o,t3_10lhgo5,t3_10lhg07,t3_10le6h2,t3_10ldij2,t3_10ldgyf,t3_10ld0dj,t3_10lcxio,t3_10lbxlk,t3_10lbpgr,t3_10lb32i,t3_10layih,t3_10lackk,t3_10l9pgg,t3_10l6wxv,t3_10l68qc,t3_10l58ez,t3_10l3s2y,t3_10l26y4,t3_10l22ku,t3_10l1tca,t3_10l1kxb,t3_10l17ui,t3_10l04qr,t3_10kzzn4,t3_10kzw3t,t3_10kz9ag,t3_10kyjwf,t3_10kvmxa,t3_10kv0er,t3_10kuct1,t3_10ktja1,t3_10ks3gy,t3_10ko6s5,t3_10knjkv,t3_10kna43,t3_10kmmw7,t3_10kmfa3,t3_10kmb3p,t3_10klqpa,t3_10klkcz,t3_10kl6lg,t3_10kk24o,t3_10kjilb,t3_10kh2ys,t3_10kgn9l,t3_10kfjab,t3_10kfe3n,t3_10kfcr4,t3_10kfb0p,t3_10kdz9e,t3_10kdpwt,t3_10kdje4,t3_10kb11a,t3_10kamzt,t3_10kagza,t3_10kagoh,t3_10k977n,t3_10k8vzr,t3_10k8hwn,t3_10k8ftz,t3_10k8dtf,t3_10k6zd1,t3_10k6sev,t3_10k2xtm,t3_10k2gau,t3_10k1htk,t3_10jx7b5', 'raw_json': 1}\n"
     ]
    },
    {
     "name": "stderr",
     "output_type": "stream",
     "text": [
      "Sleeping: 0.98 seconds prior to call\n",
      "Response: 200 (57233 bytes)\n",
      "Fetching: GET https://oauth.reddit.com/api/info/\n",
      "Data: None\n",
      "Params: {'id': 't3_x4b6fe,t3_x49tok,t3_x494kp,t3_x485jq,t3_x4674x,t3_x45lkj,t3_x45fzd,t3_x454q1,t3_x454d6,t3_x43f7b,t3_x42kb6,t3_x4110m,t3_x3yyxs,t3_x3xaeu,t3_x3xaac,t3_x3ue1m,t3_x3r3g3,t3_x3qm87,t3_x3ol47,t3_x3o0pn,t3_x3mu9c,t3_x3lh09,t3_x3kk6y,t3_x3k1x1,t3_x3jzw5,t3_x3jwru,t3_x3jusx,t3_x3jn63,t3_x3j7i5,t3_x3iei0,t3_x3i7rd,t3_x3htm7,t3_x3f9m8,t3_x3eu4v,t3_x3dn37,t3_x3d0js,t3_x3bb2b,t3_x3bb11,t3_x39lso,t3_x39jnh,t3_x39373,t3_x38xij,t3_x38qk9,t3_x3827q,t3_x37t2r,t3_x37psf,t3_x37gt2,t3_x3761u,t3_x37464,t3_x36v9z,t3_x36twq,t3_x35cp6,t3_x359gz,t3_x34dct,t3_x33x31,t3_x32ald,t3_x302iz,t3_x2zeu2,t3_x2xs61,t3_x2x61z,t3_x2vmuf,t3_x2vfm6,t3_x2tjqm,t3_x2sbay,t3_x2oydj,t3_x2om96,t3_x2ofbd,t3_x2nc4b,t3_x2mt7e,t3_x2mkcc,t3_x2m4cf,t3_x2lxiu,t3_x2lhj8,t3_x2l796,t3_x2l678,t3_x2jh91,t3_x2ioh2,t3_x2gq5f,t3_x2dyni,t3_x2am5k,t3_x2a7p5,t3_x29lkc,t3_x28fmp,t3_x25h72,t3_x23x9q,t3_x23hso,t3_x22txl,t3_x20n29,t3_x201pz,t3_x1yux0,t3_x1yski,t3_x1xeqo,t3_x1waon,t3_x1th7z,t3_x1tbd2,t3_x1s42t,t3_x1ra2k,t3_x1q6fc,t3_x1q4hp,t3_x1pbnb', 'raw_json': 1}\n",
      "Sleeping: 0.48 seconds prior to call\n",
      "Response: 200 (40439 bytes)\n",
      "Fetching: GET https://oauth.reddit.com/api/info/\n",
      "Data: None\n",
      "Params: {'id': 't3_wa3sxh,t3_wa3gyr,t3_wa2na7,t3_wa1jp8,t3_wa04lg,t3_w9x6rq,t3_w9vkww,t3_w9th7h,t3_w9rcgr,t3_w9qk0t,t3_w9q7d0,t3_w9prg9,t3_w9p6f5,t3_w9osiu,t3_w9ojil,t3_w9o3vk,t3_w9o0lk,t3_w9nuzb,t3_w9nghd,t3_w9nf33,t3_w9nce2,t3_w9n94k,t3_w9n8na,t3_w9mmgh,t3_w9kx3s,t3_w9jw72,t3_w9jrnj,t3_w9ix6q,t3_w9ipz7,t3_w9i9yp,t3_w9hw39,t3_w9gd23,t3_w9g2xf,t3_w9g24g,t3_w9d9xp,t3_w9ba13,t3_w9b3cb,t3_w9ahiy,t3_w99y5d,t3_w99t4p,t3_w99kxw,t3_w98esy,t3_w98djq,t3_w98cby,t3_w97b3s,t3_w934v4,t3_w91802,t3_w90jxn,t3_w8ys4t,t3_w8wwzu,t3_w8vsz9,t3_w8tz06,t3_w8ts1e,t3_w8t9di,t3_w8qxr4,t3_w8q2el,t3_w8punx,t3_w8pf39,t3_w8ojx1,t3_w8odcf,t3_w8kycf,t3_w8k1y4,t3_w8ie7l,t3_w8i4gv,t3_w8h4mv,t3_w8fxtw,t3_w8fpwe,t3_w8fo0l,t3_w8fbe3,t3_w8bvyc,t3_w8am87,t3_w8992b,t3_w86ild,t3_w85k8s,t3_w84nrp,t3_w7zozj,t3_w7z55d,t3_w7yx1y,t3_w7y3x6,t3_w7wp10,t3_w7unl6,t3_w7uahc,t3_w7tequ,t3_w7t0jl,t3_w7ssg2,t3_w7rk2x,t3_w7ri7j,t3_w7rb93,t3_w7qzs6,t3_w7qcjy,t3_w7oiqv,t3_w7o51q,t3_w7o51g,t3_w7jyje,t3_w7jx81,t3_w7jrwz,t3_w7ihmv,t3_w7i1xt,t3_w7i1tq,t3_w7hytc', 'raw_json': 1}\n",
      "Response: 200 (31814 bytes)\n",
      "Fetching: GET https://oauth.reddit.com/api/info/\n",
      "Data: None\n",
      "Params: {'id': 't3_uqrs66,t3_uqrjde,t3_uqq4pf,t3_uqp1gg,t3_uqokj8,t3_uqoj5o,t3_uqnino,t3_uqjnfx,t3_uqjbs1,t3_uqh9k2,t3_uqfj4m,t3_uqf5tc,t3_uqd2xl,t3_uq9u6c,t3_uq6pj3,t3_uq54l6,t3_uq42ph,t3_uq3wnc,t3_uq3uxr,t3_uq3qmp,t3_uq2wcb,t3_uq24zj,t3_upzkkp,t3_upyxqk,t3_upthbb,t3_uptdqz,t3_upszcn,t3_upqggt,t3_uppme1,t3_uppexr,t3_uppbf6,t3_upot5q,t3_uplla4,t3_upipby,t3_uphpsu,t3_upemn3,t3_upelia,t3_upc8g8,t3_upb5ny,t3_upa8uy,t3_up9zz3,t3_up71lp,t3_up6tm9,t3_up6re1,t3_up583y,t3_up4ys8,t3_up2no8,t3_up2cj7,t3_up1qc8,t3_up1ia9,t3_uoxqd2,t3_uowwtc,t3_uovvpq,t3_uovejo,t3_uot01r,t3_uorfif,t3_uorfh7,t3_uord2d,t3_uoq63z,t3_uooku3,t3_uoo3h7,t3_uonst7,t3_uonl01,t3_uomud3,t3_uomp6n,t3_uomijc,t3_uolzu4,t3_uolu7s,t3_uola12,t3_uojh8n,t3_uojcnd,t3_uoj6g1,t3_uohr0w,t3_uof7w0,t3_uoeqgr,t3_uoduwr,t3_uoa88o,t3_uo7ozb,t3_uo7kyq,t3_uo7kcg,t3_uo6u4o,t3_uo68uo,t3_uo5qyh,t3_uo4duc,t3_uo3z13,t3_uo35k8,t3_uo2tj1,t3_uo2e0w,t3_uo1pjs,t3_uo1npr,t3_uo1lz4,t3_uo1cyh,t3_unzutt,t3_unz488,t3_unyzig,t3_unyqsz,t3_unxfvf,t3_unx83t,t3_unx5ap,t3_unve9q', 'raw_json': 1}\n",
      "Sleeping: 0.48 seconds prior to call\n",
      "Response: 200 (53129 bytes)\n",
      "Fetching: GET https://oauth.reddit.com/api/info/\n",
      "Data: None\n",
      "Params: {'id': 't3_unv9l4,t3_unv6vm,t3_unux4g,t3_unuuai,t3_untb2d,t3_unovx0,t3_unotar,t3_uno1a9,t3_unnvkg,t3_unmsh1,t3_unjpfk,t3_uniuzx,t3_unhvlv,t3_unh4sy,t3_unh06s,t3_unfz04,t3_unexb7,t3_unerqs,t3_uneqrl,t3_unelt5,t3_und70w,t3_unczsa,t3_uncwb4,t3_uncqzi,t3_unbb4w,t3_unbahc,t3_unaqz2,t3_unaauh,t3_unaa4r,t3_un9za6,t3_un91ul,t3_un7tvs,t3_un6xjy,t3_un69go,t3_un62sx,t3_un5b5z,t3_un4652,t3_un3rdv,t3_un3mog,t3_un2nfk,t3_un1ebp,t3_un0r4t,t3_un0jwy,t3_umvjjy,t3_umuabk,t3_umu56p,t3_umsr4d,t3_umrh4j,t3_umqc18,t3_umq9f5,t3_umpbmg,t3_umom31,t3_umo1xs,t3_umnwww,t3_umntp2,t3_umnr5m,t3_umni02,t3_umn64y,t3_umle4n,t3_uml5k7,t3_umkut2,t3_umkoby,t3_umkmmk,t3_umkfsg,t3_umj7jp,t3_umj63b,t3_umhmvu,t3_umf5fe,t3_umeekh,t3_ume9l2,t3_ume6jd,t3_umdjpd,t3_umcf7w,t3_umca20,t3_umay31,t3_um45nk,t3_um31vm,t3_um0u6g,t3_ulzg3x,t3_ulyr2c,t3_ulwj4r,t3_ulw51t,t3_ulvl7s,t3_ulvaj4,t3_ulu7ih,t3_ulu52y,t3_ultx0g,t3_ultpii,t3_ult88p,t3_ulsmfj,t3_ulrx3s,t3_ulrna5,t3_ulr3bw,t3_ulqv5n,t3_ulqqv7,t3_ulq2pc,t3_ulprv9,t3_ulpizy,t3_ulof61,t3_ulnoke', 'raw_json': 1}\n",
      "Response: 200 (49775 bytes)\n",
      "Fetching: GET https://oauth.reddit.com/api/info/\n",
      "Data: None\n",
      "Params: {'id': 't3_uc1suu,t3_uc15wc,t3_ubzvnc,t3_ubzegg,t3_ubx77w,t3_ubx6pf,t3_ubwi4v,t3_ubvyie,t3_ubvgtw,t3_ubtm9b,t3_ubtken,t3_ubtdep,t3_ubr9ty,t3_ubqpbw,t3_ubqch9,t3_ubq05y,t3_ubooo7,t3_ubonip,t3_ubkiig,t3_ubip3p,t3_ubghg8,t3_ubg9kb,t3_ube3fs,t3_ubdyme,t3_ubdvqv,t3_ubdefz,t3_ubbi99,t3_ub81pz,t3_ub0x6q,t3_ub0g68,t3_uaz22b,t3_uax44a,t3_uauln2,t3_uau5v1,t3_uattp8,t3_uatp3c,t3_uaslul,t3_uarpsn,t3_uaotqk,t3_uaos4x,t3_uamq53,t3_uammsy,t3_uainc9,t3_uai86v,t3_uafe5v,t3_uaf40b,t3_uaf0pg,t3_uaeiku,t3_uadv4r,t3_uaaq8g,t3_ua9vo6,t3_ua9nv1,t3_ua9jc2,t3_ua4qe7,t3_ua1ybr,t3_ua1lg7,t3_ua0a0t,t3_u9x8kv,t3_u9w9w9,t3_u9sofc,t3_u9qrj9,t3_u9qfip,t3_u9q9hh,t3_u9q4ir,t3_u9pph0,t3_u9o86y,t3_u9o08x,t3_u9lucf,t3_u9l6ld,t3_u9kq2r,t3_u9k2po,t3_u9jurd,t3_u9ju60,t3_u9gzxo,t3_u9gvlb,t3_u9ge0v,t3_u9g50m,t3_u9fkis,t3_u9et3c,t3_u9epo5,t3_u9eh8i,t3_u9dx3a,t3_u9cknc,t3_u9calr,t3_u9afw0,t3_u99v1q,t3_u99qot,t3_u99oz2,t3_u96f83,t3_u95vol,t3_u93zee,t3_u93vne,t3_u92rst,t3_u92geb,t3_u91o59,t3_u91dh6,t3_u913wk,t3_u90m9m,t3_u8zuup,t3_u8zd27', 'raw_json': 1}\n",
      "Response: 200 (56774 bytes)\n",
      "Fetching: GET https://oauth.reddit.com/api/info/\n",
      "Data: None\n",
      "Params: {'id': 't3_u4dwn4,t3_u4dby2,t3_u4d8nx,t3_u4c08f,t3_u4btcg,t3_u4af6l,t3_u48yn5,t3_u47hd8,t3_u44u30,t3_u44e0m,t3_u44d7u,t3_u44561,t3_u42zrn,t3_u3zwd5,t3_u3yu5f,t3_u3y13o,t3_u3xdtn,t3_u3we8l,t3_u3w7vr,t3_u3vvs3,t3_u3v3ng,t3_u3ul49,t3_u3u6ic,t3_u3t6nb,t3_u3sdeh,t3_u3qer9,t3_u3of62,t3_u3ocdf,t3_u3o7pa,t3_u3nk38,t3_u3k245,t3_u3iehy,t3_u3i4a3,t3_u3h1pq,t3_u3h15g,t3_u3g6nl,t3_u3fstx,t3_u3exbo,t3_u3eoad,t3_u3eep2,t3_u3dreu,t3_u3cx05,t3_u3bp36,t3_u3b1n5,t3_u3agf5,t3_u398tc,t3_u37szj,t3_u36ecc,t3_u34uil,t3_u2vasc,t3_u2uyty,t3_u2uaqt,t3_u2trva,t3_u2rs9k,t3_u2rk45,t3_u2n0lj,t3_u2m6yi,t3_u2lf2g,t3_u2khfl,t3_u2kczc,t3_u2kcvw,t3_u2iffe,t3_u2i63l,t3_u2h4w9,t3_u2gctm,t3_u2g8qq,t3_u2evek,t3_u230cp,t3_u21g2t,t3_u1zdtz,t3_u1yhpv,t3_u1wrq2,t3_u1wofe,t3_u1w73i,t3_u1w5fs,t3_u1vi3g,t3_u1vddb,t3_u1rr5l,t3_u1rizz,t3_u1r7yc,t3_u1qd18,t3_u1qb1s,t3_u1m9vl,t3_u1ky4j,t3_u1jpaj,t3_u1ji6v,t3_u1h34y,t3_u1gkua,t3_u1g8md,t3_u1a3ai,t3_u19zne,t3_u19j5b,t3_u182mw,t3_u147n1,t3_u12zbo,t3_u12omv,t3_u12cgk,t3_u127sm,t3_u122ps,t3_u10hzr', 'raw_json': 1}\n",
      "Response: 200 (57591 bytes)\n",
      "Fetching: GET https://oauth.reddit.com/api/info/\n",
      "Data: None\n",
      "Params: {'id': 't3_u8xzcs,t3_u8xb20,t3_u8wucd,t3_u8vm32,t3_u8smc8,t3_u8skwa,t3_u8p8uj,t3_u8oay5,t3_u8n4fm,t3_u8ldsv,t3_u8kvvc,t3_u8jys0,t3_u8j7kd,t3_u8iq2l,t3_u8ijvt,t3_u8hosz,t3_u8h5sb,t3_u8h2n9,t3_u8d7q3,t3_u88d1b,t3_u87uog,t3_u872oc,t3_u86p11,t3_u867vw,t3_u84a4c,t3_u82zkm,t3_u82qug,t3_u82ph9,t3_u82oo2,t3_u82mni,t3_u816q5,t3_u80mvi,t3_u7xs55,t3_u7xl22,t3_u7v3bu,t3_u7tz4j,t3_u7s5qf,t3_u7rk6a,t3_u7re9w,t3_u7pbkk,t3_u7p2hx,t3_u7kvfk,t3_u7k051,t3_u7gjpm,t3_u7ge73,t3_u7e5hc,t3_u7e0hc,t3_u7c0on,t3_u7byjy,t3_u7b963,t3_u7auoy,t3_u7amwm,t3_u79o9g,t3_u7905z,t3_u78rd2,t3_u76r5q,t3_u76107,t3_u7534g,t3_u749ri,t3_u735en,t3_u72sdx,t3_u72p7e,t3_u724nk,t3_u71pwn,t3_u71nd9,t3_u6zarh,t3_u6yn9t,t3_u6wcfu,t3_u6ool2,t3_u6nw2b,t3_u6nud1,t3_u6m9rf,t3_u6lbw1,t3_u6kds1,t3_u6j26l,t3_u6i6bj,t3_u6i4mr,t3_u6e9kd,t3_u6d6vl,t3_u6d2cd,t3_u6cosy,t3_u6c2hs,t3_u6b9yj,t3_u67kog,t3_u67iak,t3_u66kt4,t3_u65zqp,t3_u62vjr,t3_u62faw,t3_u61arb,t3_u60ui1,t3_u5yqop,t3_u5xqki,t3_u5wkfp,t3_u5vgcq,t3_u5vaef,t3_u5sget,t3_u5r059,t3_u5q5ua,t3_u5pbql', 'raw_json': 1}\n",
      "Response: 200 (50492 bytes)\n",
      "Fetching: GET https://oauth.reddit.com/api/info/\n",
      "Data: None\n",
      "Params: {'id': 't3_u0xz4x,t3_u0xww4,t3_u0wint,t3_u0we8d,t3_u0vtl3,t3_u0t6h4,t3_u0obz3,t3_u0o4kw,t3_u0lmb0,t3_u0kzy6,t3_u0kd25,t3_u0k4xf,t3_u0j9ci,t3_u0hmuf,t3_u0hekp,t3_u0e4bm,t3_u0d4rw,t3_u0czj5,t3_u08974,t3_u0732p', 'raw_json': 1}\n"
     ]
    },
    {
     "name": "stderr",
     "output_type": "stream",
     "text": [
      "Response: 200 (13567 bytes)\n"
     ]
    }
   ],
   "source": [
    "one_year_submissions_list = list(one_year_submissions)"
   ]
  },
  {
   "cell_type": "code",
   "execution_count": 50,
   "id": "d83d498c",
   "metadata": {
    "scrolled": true
   },
   "outputs": [
    {
     "data": {
      "text/plain": [
       "{'comment_limit': 2048,\n",
       " 'comment_sort': 'confidence',\n",
       " '_reddit': <praw.reddit.Reddit at 0x7fe7a258a170>,\n",
       " 'approved_at_utc': None,\n",
       " 'subreddit': Subreddit(display_name='dataengineering'),\n",
       " 'selftext': \"We're currently using MS Access as storage file as we do not have SERVER availability. The Access files are being saved in SharePoint and people connect there using PowerBI (free version) or Excel using PowerQuery.\\n\\nSo basically we're using that as a data storage.  MS Access seems really stable and hardly data gets error/corrupted as we use for read-only.\\n\\nThe problem is that MS Access has a DB size limitation of 2GB and we need some free open source alternative. Since we can't have any server (it's for internal team use) I would like to know what is better option:-SQLite-DuckDB\\n\\nWe get incremental data everyday from retailers which we save in MS Access day by day.\\n\\nDo you know any other self-contained database with >2B database size limit? We cannot host it or can't get any Saas. Everything has to be within the network.\",\n",
       " 'author_fullname': 't2_9sk2qr0q',\n",
       " 'saved': False,\n",
       " 'mod_reason_title': None,\n",
       " 'gilded': 0,\n",
       " 'clicked': False,\n",
       " 'title': 'Serverless DB to replace MS Access',\n",
       " 'link_flair_richtext': [],\n",
       " 'subreddit_name_prefixed': 'r/dataengineering',\n",
       " 'hidden': False,\n",
       " 'pwls': 6,\n",
       " 'link_flair_css_class': '',\n",
       " 'downs': 0,\n",
       " 'thumbnail_height': None,\n",
       " 'top_awarded_type': None,\n",
       " 'hide_score': False,\n",
       " 'name': 't3_12gu5rt',\n",
       " 'quarantine': False,\n",
       " 'link_flair_text_color': 'light',\n",
       " 'upvote_ratio': 1.0,\n",
       " 'author_flair_background_color': None,\n",
       " 'subreddit_type': 'public',\n",
       " 'ups': 9,\n",
       " 'total_awards_received': 0,\n",
       " 'media_embed': {},\n",
       " 'thumbnail_width': None,\n",
       " 'author_flair_template_id': None,\n",
       " 'is_original_content': False,\n",
       " 'user_reports': [],\n",
       " 'secure_media': None,\n",
       " 'is_reddit_media_domain': False,\n",
       " 'is_meta': False,\n",
       " 'category': None,\n",
       " 'secure_media_embed': {},\n",
       " 'link_flair_text': 'Help',\n",
       " 'can_mod_post': False,\n",
       " 'score': 9,\n",
       " 'approved_by': None,\n",
       " 'is_created_from_ads_ui': False,\n",
       " 'author_premium': False,\n",
       " 'thumbnail': 'self',\n",
       " 'edited': False,\n",
       " 'author_flair_css_class': None,\n",
       " 'author_flair_richtext': [],\n",
       " 'gildings': {},\n",
       " 'content_categories': None,\n",
       " 'is_self': True,\n",
       " 'mod_note': None,\n",
       " 'created': 1681070935.0,\n",
       " 'link_flair_type': 'text',\n",
       " 'wls': 6,\n",
       " 'removed_by_category': None,\n",
       " 'banned_by': None,\n",
       " 'author_flair_type': 'text',\n",
       " 'domain': 'self.dataengineering',\n",
       " 'allow_live_comments': False,\n",
       " 'selftext_html': '<!-- SC_OFF --><div class=\"md\"><p>We&#39;re currently using MS Access as storage file as we do not have SERVER availability. The Access files are being saved in SharePoint and people connect there using PowerBI (free version) or Excel using PowerQuery.</p>\\n\\n<p>So basically we&#39;re using that as a data storage.  MS Access seems really stable and hardly data gets error/corrupted as we use for read-only.</p>\\n\\n<p>The problem is that MS Access has a DB size limitation of 2GB and we need some free open source alternative. Since we can&#39;t have any server (it&#39;s for internal team use) I would like to know what is better option:-SQLite-DuckDB</p>\\n\\n<p>We get incremental data everyday from retailers which we save in MS Access day by day.</p>\\n\\n<p>Do you know any other self-contained database with &gt;2B database size limit? We cannot host it or can&#39;t get any Saas. Everything has to be within the network.</p>\\n</div><!-- SC_ON -->',\n",
       " 'likes': None,\n",
       " 'suggested_sort': None,\n",
       " 'banned_at_utc': None,\n",
       " 'view_count': None,\n",
       " 'archived': False,\n",
       " 'no_follow': False,\n",
       " 'is_crosspostable': False,\n",
       " 'pinned': False,\n",
       " 'over_18': False,\n",
       " 'all_awardings': [],\n",
       " 'awarders': [],\n",
       " 'media_only': False,\n",
       " 'link_flair_template_id': '2ca94cd6-ac27-11eb-a8eb-0e7f457f5bd3',\n",
       " 'can_gild': False,\n",
       " 'spoiler': False,\n",
       " 'locked': False,\n",
       " 'author_flair_text': None,\n",
       " 'treatment_tags': [],\n",
       " 'visited': False,\n",
       " 'removed_by': None,\n",
       " 'num_reports': None,\n",
       " 'distinguished': None,\n",
       " 'subreddit_id': 't5_36en4',\n",
       " 'author_is_blocked': False,\n",
       " 'mod_reason_by': None,\n",
       " 'removal_reason': None,\n",
       " 'link_flair_background_color': '#ea0027',\n",
       " 'id': '12gu5rt',\n",
       " 'is_robot_indexable': True,\n",
       " 'report_reasons': None,\n",
       " 'author': Redditor(name='Prestigious_Flow_465'),\n",
       " 'discussion_type': None,\n",
       " 'num_comments': 16,\n",
       " 'send_replies': True,\n",
       " 'whitelist_status': 'all_ads',\n",
       " 'contest_mode': False,\n",
       " 'mod_reports': [],\n",
       " 'author_patreon_flair': False,\n",
       " 'author_flair_text_color': None,\n",
       " 'permalink': '/r/dataengineering/comments/12gu5rt/serverless_db_to_replace_ms_access/',\n",
       " 'parent_whitelist_status': 'all_ads',\n",
       " 'stickied': False,\n",
       " 'url': 'https://www.reddit.com/r/dataengineering/comments/12gu5rt/serverless_db_to_replace_ms_access/',\n",
       " 'subreddit_subscribers': 97674,\n",
       " 'created_utc': 1681070935.0,\n",
       " 'num_crossposts': 0,\n",
       " 'media': None,\n",
       " 'is_video': False,\n",
       " '_fetched': False,\n",
       " '_comments_by_id': {}}"
      ]
     },
     "execution_count": 50,
     "metadata": {},
     "output_type": "execute_result"
    }
   ],
   "source": [
    "vars(one_year_submissions_list[0])"
   ]
  },
  {
   "cell_type": "markdown",
   "id": "315c124d",
   "metadata": {},
   "source": [
    "# Test Praw for comments in a big thread"
   ]
  },
  {
   "cell_type": "code",
   "execution_count": 123,
   "id": "a56b41fc",
   "metadata": {},
   "outputs": [],
   "source": [
    "# url = \"https://www.reddit.com/r/funny/comments/3g1jfi/buttons/\"\n",
    "url = \"https://www.reddit.com/r/dataengineering/comments/12sxihg/visualizing_parquet_in_s3_bucket_for_data_analysis/\"\n",
    "my_submission = reddit.submission(url=url)\n",
    "\n",
    "my_submission_checkpoint = copy.deepcopy(my_submission)"
   ]
  },
  {
   "cell_type": "code",
   "execution_count": 124,
   "id": "c07af4a1",
   "metadata": {},
   "outputs": [],
   "source": [
    "my_submission_play = copy.deepcopy(my_submission_checkpoint)"
   ]
  },
  {
   "cell_type": "code",
   "execution_count": 125,
   "id": "8a3c81cb",
   "metadata": {},
   "outputs": [
    {
     "data": {
      "text/plain": [
       "13"
      ]
     },
     "execution_count": 125,
     "metadata": {},
     "output_type": "execute_result"
    }
   ],
   "source": [
    "my_submission_play.num_comments"
   ]
  },
  {
   "cell_type": "code",
   "execution_count": 126,
   "id": "a954e6bd",
   "metadata": {},
   "outputs": [
    {
     "data": {
      "text/plain": [
       "13"
      ]
     },
     "execution_count": 126,
     "metadata": {},
     "output_type": "execute_result"
    }
   ],
   "source": [
    "len(my_submission_play._comments_by_id)"
   ]
  },
  {
   "cell_type": "code",
   "execution_count": 128,
   "id": "25fececc",
   "metadata": {
    "scrolled": true
   },
   "outputs": [
    {
     "name": "stdout",
     "output_type": "stream",
     "text": [
      "12\n"
     ]
    }
   ],
   "source": [
    "my_submission_play.comments.replace_more(limit=None)\n",
    "comments = []\n",
    "i_max = 0\n",
    "for i, comment in enumerate(my_submission_play.comments.list()):\n",
    "    comments.append(comment.body[:10])\n",
    "    i_max = i\n",
    "    \n",
    "print(i_max)"
   ]
  },
  {
   "cell_type": "code",
   "execution_count": 56,
   "id": "3cfb3083",
   "metadata": {},
   "outputs": [],
   "source": [
    "comments = [vars(comment) for comment in my_submission_play.comments.list()]"
   ]
  },
  {
   "cell_type": "markdown",
   "id": "e42ef1dd",
   "metadata": {},
   "source": [
    "How to get comment's author"
   ]
  },
  {
   "cell_type": "code",
   "execution_count": 57,
   "id": "81275ce3",
   "metadata": {},
   "outputs": [],
   "source": [
    "comment = comments[2]\n",
    "redditor = comment['author']"
   ]
  },
  {
   "cell_type": "code",
   "execution_count": 64,
   "id": "e40f2f75",
   "metadata": {},
   "outputs": [
    {
     "data": {
      "text/plain": [
       "'veilofmaya1234'"
      ]
     },
     "execution_count": 64,
     "metadata": {},
     "output_type": "execute_result"
    }
   ],
   "source": [
    "comment['author'].name"
   ]
  },
  {
   "cell_type": "code",
   "execution_count": 60,
   "id": "8f2f7b81",
   "metadata": {
    "scrolled": true
   },
   "outputs": [
    {
     "data": {
      "text/plain": [
       "'t2_9bktr'"
      ]
     },
     "execution_count": 60,
     "metadata": {},
     "output_type": "execute_result"
    }
   ],
   "source": [
    "comment['author_fullname']"
   ]
  },
  {
   "cell_type": "markdown",
   "id": "093da6a4",
   "metadata": {},
   "source": [
    "Replace `author` object with its actual name"
   ]
  },
  {
   "cell_type": "code",
   "execution_count": 67,
   "id": "6e7a4c7b",
   "metadata": {},
   "outputs": [],
   "source": [
    "comments_with_author_names = list(map(\n",
    "    lambda comment: comment | {'author': comment['author'].name}\n",
    "    if isinstance(comment['author'], praw.models.Redditor)  else comment, comments\n",
    "))"
   ]
  },
  {
   "cell_type": "markdown",
   "id": "d2228404",
   "metadata": {},
   "source": [
    "# Testing duckdb"
   ]
  },
  {
   "cell_type": "code",
   "execution_count": 111,
   "id": "92e227c2",
   "metadata": {},
   "outputs": [],
   "source": [
    "first_half_comments = comments_with_author_names[:362]\n",
    "second_half_commments = comments_with_author_names[362:]"
   ]
  },
  {
   "cell_type": "code",
   "execution_count": 130,
   "id": "6f3495a1",
   "metadata": {},
   "outputs": [],
   "source": [
    "first_comments_clean = map(clean_up_reddit_object, first_half_comments)\n",
    "second_comments_clean = map(clean_up_reddit_object, second_half_commments)"
   ]
  },
  {
   "cell_type": "code",
   "execution_count": 131,
   "id": "048d0483",
   "metadata": {},
   "outputs": [],
   "source": [
    "df_comments_first = pd.DataFrame.from_records(first_comments_clean)\n",
    "df_comments_second = pd.DataFrame.from_records(second_comments_clean)"
   ]
  },
  {
   "cell_type": "code",
   "execution_count": 187,
   "id": "7acc7a86",
   "metadata": {},
   "outputs": [],
   "source": [
    "time_cols = [col for col in df_comments_first.columns if re.match('.*(creat|updat|edit).*', col)]"
   ]
  },
  {
   "cell_type": "code",
   "execution_count": 132,
   "id": "b4fe3b46",
   "metadata": {},
   "outputs": [],
   "source": [
    "df_comments_first_head = df_comments_first.head(0)"
   ]
  },
  {
   "cell_type": "code",
   "execution_count": 133,
   "id": "741e3685",
   "metadata": {
    "scrolled": true
   },
   "outputs": [],
   "source": [
    "duckdb.sql('CREATE TABLE IF NOT EXISTS comments AS SELECT * FROM df_comments_first_head')"
   ]
  },
  {
   "cell_type": "code",
   "execution_count": 134,
   "id": "37def23b",
   "metadata": {
    "scrolled": true
   },
   "outputs": [],
   "source": [
    "duckdb.sql('CREATE OR REPLACE TABLE comments AS SELECT * FROM comments UNION BY NAME SELECT * FROM df_comments_first')"
   ]
  },
  {
   "cell_type": "code",
   "execution_count": 135,
   "id": "d272ad10",
   "metadata": {},
   "outputs": [],
   "source": [
    "duckdb.sql('CREATE OR REPLACE TABLE comments AS SELECT * FROM comments UNION BY NAME SELECT * FROM df_comments_second')"
   ]
  },
  {
   "cell_type": "code",
   "execution_count": 195,
   "id": "6c8aed47",
   "metadata": {},
   "outputs": [],
   "source": [
    "recast_time_columns = ', '.join([f'{col}::int as {col}' for col in time_cols])"
   ]
  },
  {
   "cell_type": "code",
   "execution_count": 197,
   "id": "df77ec0d",
   "metadata": {},
   "outputs": [],
   "source": [
    "duckdb.sql(f'CREATE OR REPLACE TABLE comments AS SELECT * REPLACE ({recast_time_columns}) FROM comments')"
   ]
  },
  {
   "cell_type": "markdown",
   "id": "1a2017ff",
   "metadata": {},
   "source": [
    "How to get table schema for BigQuery"
   ]
  },
  {
   "cell_type": "code",
   "execution_count": 198,
   "id": "83bf9f7a",
   "metadata": {
    "scrolled": true
   },
   "outputs": [
    {
     "data": {
      "text/plain": [
       "[{'name': 'total_awards_received', 'type': 'BIGINT'},\n",
       " {'name': 'approved_at_utc', 'type': 'INTEGER'},\n",
       " {'name': 'author_is_blocked', 'type': 'BOOLEAN'},\n",
       " {'name': 'comment_type', 'type': 'INTEGER'},\n",
       " {'name': 'awarders', 'type': 'INTEGER'},\n",
       " {'name': 'mod_reason_by', 'type': 'INTEGER'},\n",
       " {'name': 'banned_by', 'type': 'INTEGER'},\n",
       " {'name': 'ups', 'type': 'BIGINT'},\n",
       " {'name': 'removal_reason', 'type': 'INTEGER'},\n",
       " {'name': 'link_id', 'type': 'VARCHAR'},\n",
       " {'name': 'author_flair_template_id', 'type': 'INTEGER'},\n",
       " {'name': 'likes', 'type': 'INTEGER'},\n",
       " {'name': 'user_reports', 'type': 'INTEGER'},\n",
       " {'name': 'saved', 'type': 'BOOLEAN'},\n",
       " {'name': 'id', 'type': 'VARCHAR'},\n",
       " {'name': 'banned_at_utc', 'type': 'INTEGER'},\n",
       " {'name': 'mod_reason_title', 'type': 'INTEGER'},\n",
       " {'name': 'gilded', 'type': 'BIGINT'},\n",
       " {'name': 'archived', 'type': 'BOOLEAN'},\n",
       " {'name': 'collapsed_reason_code', 'type': 'VARCHAR'},\n",
       " {'name': 'no_follow', 'type': 'BOOLEAN'},\n",
       " {'name': 'author', 'type': 'VARCHAR'},\n",
       " {'name': 'can_mod_post', 'type': 'BOOLEAN'},\n",
       " {'name': 'send_replies', 'type': 'BOOLEAN'},\n",
       " {'name': 'parent_id', 'type': 'VARCHAR'},\n",
       " {'name': 'score', 'type': 'BIGINT'},\n",
       " {'name': 'approved_by', 'type': 'INTEGER'},\n",
       " {'name': 'report_reasons', 'type': 'INTEGER'},\n",
       " {'name': 'all_awardings',\n",
       "  'type': 'STRUCT(giver_coin_reward INTEGER, subreddit_id INTEGER, is_new BOOLEAN, days_of_drip_extension INTEGER, coin_price SMALLINT, id VARCHAR, penny_donate INTEGER, coin_reward TINYINT, icon_url VARCHAR, days_of_premium TINYINT, icon_height SMALLINT, tiers_by_required_awardings INTEGER, resized_icons STRUCT(url VARCHAR, width SMALLINT, height SMALLINT)[], icon_width SMALLINT, static_icon_width SMALLINT, start_date INTEGER, is_enabled BOOLEAN, awardings_required_to_grant_benefits INTEGER, description VARCHAR, end_date INTEGER, sticky_duration_seconds INTEGER, subreddit_coin_reward TINYINT, count TINYINT, static_icon_height SMALLINT, \"name\" VARCHAR, resized_static_icons STRUCT(url VARCHAR, width SMALLINT, height SMALLINT)[], icon_format INTEGER, award_sub_type VARCHAR, penny_price INTEGER, award_type VARCHAR, static_icon_url VARCHAR)[]'},\n",
       " {'name': 'subreddit_id', 'type': 'VARCHAR'},\n",
       " {'name': 'body', 'type': 'VARCHAR'},\n",
       " {'name': 'edited', 'type': 'INTEGER'},\n",
       " {'name': 'downs', 'type': 'BIGINT'},\n",
       " {'name': 'author_flair_css_class', 'type': 'INTEGER'},\n",
       " {'name': 'collapsed', 'type': 'BOOLEAN'},\n",
       " {'name': 'is_submitter', 'type': 'BOOLEAN'},\n",
       " {'name': 'body_html', 'type': 'VARCHAR'},\n",
       " {'name': 'gildings', 'type': 'STRUCT(gid_2 TINYINT)'},\n",
       " {'name': 'collapsed_reason', 'type': 'VARCHAR'},\n",
       " {'name': 'associated_award', 'type': 'INTEGER'},\n",
       " {'name': 'stickied', 'type': 'BOOLEAN'},\n",
       " {'name': 'subreddit_type', 'type': 'VARCHAR'},\n",
       " {'name': 'can_gild', 'type': 'BOOLEAN'},\n",
       " {'name': 'top_awarded_type', 'type': 'INTEGER'},\n",
       " {'name': 'unrepliable_reason', 'type': 'INTEGER'},\n",
       " {'name': 'author_flair_text_color', 'type': 'VARCHAR'},\n",
       " {'name': 'score_hidden', 'type': 'BOOLEAN'},\n",
       " {'name': 'permalink', 'type': 'VARCHAR'},\n",
       " {'name': 'num_reports', 'type': 'INTEGER'},\n",
       " {'name': 'locked', 'type': 'BOOLEAN'},\n",
       " {'name': 'name', 'type': 'VARCHAR'},\n",
       " {'name': 'created', 'type': 'INTEGER'},\n",
       " {'name': 'author_flair_text', 'type': 'INTEGER'},\n",
       " {'name': 'treatment_tags', 'type': 'INTEGER'},\n",
       " {'name': 'created_utc', 'type': 'INTEGER'},\n",
       " {'name': 'subreddit_name_prefixed', 'type': 'VARCHAR'},\n",
       " {'name': 'controversiality', 'type': 'BIGINT'},\n",
       " {'name': 'depth', 'type': 'BIGINT'},\n",
       " {'name': 'author_flair_background_color', 'type': 'VARCHAR'},\n",
       " {'name': 'collapsed_because_crowd_control', 'type': 'INTEGER'},\n",
       " {'name': 'mod_reports', 'type': 'INTEGER'},\n",
       " {'name': 'mod_note', 'type': 'INTEGER'},\n",
       " {'name': 'distinguished', 'type': 'INTEGER'},\n",
       " {'name': '_fetched', 'type': 'BOOLEAN'},\n",
       " {'name': 'author_flair_type', 'type': 'VARCHAR'},\n",
       " {'name': 'author_fullname', 'type': 'VARCHAR'},\n",
       " {'name': 'author_flair_richtext', 'type': 'DOUBLE'},\n",
       " {'name': 'author_patreon_flair', 'type': 'INTEGER'},\n",
       " {'name': 'author_premium', 'type': 'INTEGER'},\n",
       " {'name': 'author_cakeday', 'type': 'BOOLEAN'}]"
      ]
     },
     "execution_count": 198,
     "metadata": {},
     "output_type": "execute_result"
    }
   ],
   "source": [
    "table_schema = duckdb.sql('DESCRIBE TABLE comments').df()[['column_name', 'column_type']]\n",
    "table_schema.rename({'column_name': 'name', 'column_type': 'type'}, axis=1, inplace=True)\n",
    "\n",
    "table_schema.to_dict('records')"
   ]
  },
  {
   "cell_type": "code",
   "execution_count": 199,
   "id": "0ace079d",
   "metadata": {},
   "outputs": [
    {
     "data": {
      "text/plain": [
       "┌────────────┐\n",
       "│  created   │\n",
       "│   int32    │\n",
       "├────────────┤\n",
       "│ 1438891963 │\n",
       "│ 1438902364 │\n",
       "│ 1438894741 │\n",
       "│ 1438893597 │\n",
       "│ 1438895300 │\n",
       "│ 1438910423 │\n",
       "│ 1438893306 │\n",
       "│ 1438901625 │\n",
       "│ 1438900393 │\n",
       "│ 1438892631 │\n",
       "│      ·     │\n",
       "│      ·     │\n",
       "│      ·     │\n",
       "│ 1438923640 │\n",
       "│ 1438912030 │\n",
       "│ 1438972553 │\n",
       "│ 1438917737 │\n",
       "│ 1438915752 │\n",
       "│ 1438912250 │\n",
       "│ 1438928979 │\n",
       "│ 1438942233 │\n",
       "│ 1438911945 │\n",
       "│ 1438912435 │\n",
       "├────────────┤\n",
       "│  775 rows  │\n",
       "│ (20 shown) │\n",
       "└────────────┘"
      ]
     },
     "execution_count": 199,
     "metadata": {},
     "output_type": "execute_result"
    }
   ],
   "source": [
    "duckdb.sql('SELECT created FROM comments where created is not null')"
   ]
  },
  {
   "cell_type": "markdown",
   "id": "41f8ab08",
   "metadata": {},
   "source": [
    "# Check local db"
   ]
  },
  {
   "cell_type": "code",
   "execution_count": 122,
   "id": "0c2bf0ab",
   "metadata": {},
   "outputs": [],
   "source": [
    "try:\n",
    "    con.close()\n",
    "except NameError:\n",
    "    pass"
   ]
  },
  {
   "cell_type": "code",
   "execution_count": 116,
   "id": "dce08baf",
   "metadata": {},
   "outputs": [],
   "source": [
    "con = duckdb.connect('../assets/dataengineering.duckdb')"
   ]
  },
  {
   "cell_type": "code",
   "execution_count": 120,
   "id": "089692e1",
   "metadata": {},
   "outputs": [
    {
     "ename": "CatalogException",
     "evalue": "Catalog Error: Table with name submissions does not exist!\nDid you mean \"system.information_schema.columns\"?",
     "output_type": "error",
     "traceback": [
      "\u001b[0;31m---------------------------------------------------------------------------\u001b[0m",
      "\u001b[0;31mCatalogException\u001b[0m                          Traceback (most recent call last)",
      "Cell \u001b[0;32mIn[120], line 1\u001b[0m\n\u001b[0;32m----> 1\u001b[0m \u001b[43mcon\u001b[49m\u001b[38;5;241;43m.\u001b[39;49m\u001b[43msql\u001b[49m\u001b[43m(\u001b[49m\u001b[38;5;124;43m'\u001b[39;49m\u001b[38;5;124;43mselect * from submissions\u001b[39;49m\u001b[38;5;124;43m'\u001b[39;49m\u001b[43m)\u001b[49m\n",
      "\u001b[0;31mCatalogException\u001b[0m: Catalog Error: Table with name submissions does not exist!\nDid you mean \"system.information_schema.columns\"?"
     ]
    }
   ],
   "source": [
    "con.sql('select * from submissions')"
   ]
  }
 ],
 "metadata": {
  "kernelspec": {
   "display_name": "Python 3 (ipykernel)",
   "language": "python",
   "name": "python3"
  },
  "language_info": {
   "codemirror_mode": {
    "name": "ipython",
    "version": 3
   },
   "file_extension": ".py",
   "mimetype": "text/x-python",
   "name": "python",
   "nbconvert_exporter": "python",
   "pygments_lexer": "ipython3",
   "version": "3.11.1"
  }
 },
 "nbformat": 4,
 "nbformat_minor": 5
}
